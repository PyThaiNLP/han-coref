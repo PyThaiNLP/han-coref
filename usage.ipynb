{
 "cells": [
  {
   "cell_type": "code",
   "execution_count": null,
   "id": "014c7445-c0e2-48bf-b4a4-328fb55b9a23",
   "metadata": {},
   "outputs": [],
   "source": [
    "!pip install fastcoref pythainlp transformers"
   ]
  },
  {
   "cell_type": "code",
   "execution_count": 1,
   "id": "bc19e020-35bf-4a7e-ab72-0f650668d81a",
   "metadata": {
    "tags": []
   },
   "outputs": [],
   "source": [
    "import os\n",
    "os.environ[\"CUDA_VISIBLE_DEVICES\"]=\"5\""
   ]
  },
  {
   "cell_type": "code",
   "execution_count": 2,
   "id": "97ac1ace-c148-4dc0-9fdd-7991019fe197",
   "metadata": {
    "tags": []
   },
   "outputs": [],
   "source": [
    "from fastcoref import FCoref\n",
    "import spacy"
   ]
  },
  {
   "cell_type": "code",
   "execution_count": 4,
   "id": "46c98d82-27d1-4cb5-9723-f56bf7611532",
   "metadata": {
    "tags": []
   },
   "outputs": [],
   "source": [
    "nlp = spacy.blank(\"th\")"
   ]
  },
  {
   "cell_type": "code",
   "execution_count": 5,
   "id": "8ff08717-2fb7-49a8-b40e-ba38a70df2b4",
   "metadata": {
    "tags": []
   },
   "outputs": [
    {
     "data": {
      "application/vnd.jupyter.widget-view+json": {
       "model_id": "25988861ed7b4af39e216e9381badf5c",
       "version_major": 2,
       "version_minor": 0
      },
      "text/plain": [
       "Downloading (…)lve/main/config.json:   0%|          | 0.00/833 [00:00<?, ?B/s]"
      ]
     },
     "metadata": {},
     "output_type": "display_data"
    },
    {
     "data": {
      "application/vnd.jupyter.widget-view+json": {
       "model_id": "65e648a960d54534b5b31d58296600f9",
       "version_major": 2,
       "version_minor": 0
      },
      "text/plain": [
       "Downloading (…)okenizer_config.json:   0%|          | 0.00/509 [00:00<?, ?B/s]"
      ]
     },
     "metadata": {},
     "output_type": "display_data"
    },
    {
     "data": {
      "application/vnd.jupyter.widget-view+json": {
       "model_id": "2ded7f9841e348e2932170ff18e90661",
       "version_major": 2,
       "version_minor": 0
      },
      "text/plain": [
       "Downloading (…)tencepiece.bpe.model:   0%|          | 0.00/18.2M [00:00<?, ?B/s]"
      ]
     },
     "metadata": {},
     "output_type": "display_data"
    },
    {
     "data": {
      "application/vnd.jupyter.widget-view+json": {
       "model_id": "73bb0c81a771452786d2acecf6b076a4",
       "version_major": 2,
       "version_minor": 0
      },
      "text/plain": [
       "Downloading tokenizer.json:   0%|          | 0.00/61.3M [00:00<?, ?B/s]"
      ]
     },
     "metadata": {},
     "output_type": "display_data"
    },
    {
     "data": {
      "application/vnd.jupyter.widget-view+json": {
       "model_id": "ca7d6303fbb24b728f78578285e78bfc",
       "version_major": 2,
       "version_minor": 0
      },
      "text/plain": [
       "Downloading (…)cial_tokens_map.json:   0%|          | 0.00/280 [00:00<?, ?B/s]"
      ]
     },
     "metadata": {},
     "output_type": "display_data"
    },
    {
     "data": {
      "application/vnd.jupyter.widget-view+json": {
       "model_id": "508888c5c6e4423a9a76a62c36a840c9",
       "version_major": 2,
       "version_minor": 0
      },
      "text/plain": [
       "Downloading pytorch_model.bin:   0%|          | 0.00/3.15G [00:00<?, ?B/s]"
      ]
     },
     "metadata": {},
     "output_type": "display_data"
    },
    {
     "name": "stderr",
     "output_type": "stream",
     "text": [
      "05/21/2023 08:42:13 - INFO - \t missing_keys: []\n",
      "05/21/2023 08:42:13 - INFO - \t unexpected_keys: []\n",
      "05/21/2023 08:42:13 - INFO - \t mismatched_keys: []\n",
      "05/21/2023 08:42:13 - INFO - \t error_msgs: []\n",
      "05/21/2023 08:42:13 - INFO - \t Model Parameters: 786.9M, Transformer: 778.5M, Coref head: 8.4M\n"
     ]
    }
   ],
   "source": [
    "model_path = \"pythainlp/han-coref-v1.0\"\n",
    "model = FCoref(model_name_or_path=model_path, device='cuda', nlp=nlp)"
   ]
  },
  {
   "cell_type": "code",
   "execution_count": 6,
   "id": "c59df586-bd6e-4aa9-acc8-5d8c52c86394",
   "metadata": {
    "tags": []
   },
   "outputs": [
    {
     "name": "stderr",
     "output_type": "stream",
     "text": [
      "05/21/2023 08:42:13 - INFO - \t Tokenize 1 inputs...\n"
     ]
    },
    {
     "data": {
      "application/vnd.jupyter.widget-view+json": {
       "model_id": "",
       "version_major": 2,
       "version_minor": 0
      },
      "text/plain": [
       "Map:   0%|          | 0/1 [00:00<?, ? examples/s]"
      ]
     },
     "metadata": {},
     "output_type": "display_data"
    },
    {
     "name": "stderr",
     "output_type": "stream",
     "text": [
      "05/21/2023 08:42:13 - INFO - \t ***** Running Inference on 1 texts *****\n"
     ]
    },
    {
     "data": {
      "application/vnd.jupyter.widget-view+json": {
       "model_id": "81987c9316cf4106b428f1085e29de36",
       "version_major": 2,
       "version_minor": 0
      },
      "text/plain": [
       "Inference:   0%|          | 0/1 [00:00<?, ?it/s]"
      ]
     },
     "metadata": {},
     "output_type": "display_data"
    }
   ],
   "source": [
    "preds = model.predict(\n",
    "   texts=[\"แกว่าเราเข้มแข็งมากพอที่จะเห็นแกไปน่ารักกับใครหรอ\"]\n",
    ")"
   ]
  },
  {
   "cell_type": "code",
   "execution_count": 7,
   "id": "97b2646d-ea61-4e20-b5af-3503b75f762d",
   "metadata": {
    "tags": []
   },
   "outputs": [
    {
     "data": {
      "text/plain": [
       "[[(0, 2), (30, 32)]]"
      ]
     },
     "execution_count": 7,
     "metadata": {},
     "output_type": "execute_result"
    }
   ],
   "source": [
    "preds[0].get_clusters(as_strings=False)"
   ]
  },
  {
   "cell_type": "code",
   "execution_count": 9,
   "id": "a39ceb53-e5b3-4434-aced-2d17c1adc7d0",
   "metadata": {
    "tags": []
   },
   "outputs": [
    {
     "data": {
      "text/plain": [
       "[['แก', 'แก']]"
      ]
     },
     "execution_count": 9,
     "metadata": {},
     "output_type": "execute_result"
    }
   ],
   "source": [
    "preds[0].get_clusters()"
   ]
  },
  {
   "cell_type": "code",
   "execution_count": 11,
   "id": "4f2b8d6f-a247-464c-a488-7583367a1c7b",
   "metadata": {
    "tags": []
   },
   "outputs": [
    {
     "data": {
      "text/plain": [
       "-0.7882227"
      ]
     },
     "execution_count": 11,
     "metadata": {},
     "output_type": "execute_result"
    }
   ],
   "source": [
    "# แก -> เรา\n",
    "preds[0].get_logit(\n",
    "   span_i=(0, 2), span_j=(5, 8)\n",
    ")"
   ]
  },
  {
   "cell_type": "code",
   "execution_count": 12,
   "id": "3aa905e7-c558-46c5-9744-9c1b4019601a",
   "metadata": {
    "tags": []
   },
   "outputs": [
    {
     "data": {
      "text/plain": [
       "3.5253818"
      ]
     },
     "execution_count": 12,
     "metadata": {},
     "output_type": "execute_result"
    }
   ],
   "source": [
    "# แก -> แก\n",
    "preds[0].get_logit(\n",
    "   span_i=(0, 2), span_j=(30, 32)\n",
    ")"
   ]
  },
  {
   "cell_type": "code",
   "execution_count": null,
   "id": "bae248ce-b997-471a-b9f9-11946528de68",
   "metadata": {},
   "outputs": [],
   "source": []
  }
 ],
 "metadata": {
  "kernelspec": {
   "display_name": "Python 3 (ipykernel)",
   "language": "python",
   "name": "python3"
  },
  "language_info": {
   "codemirror_mode": {
    "name": "ipython",
    "version": 3
   },
   "file_extension": ".py",
   "mimetype": "text/x-python",
   "name": "python",
   "nbconvert_exporter": "python",
   "pygments_lexer": "ipython3",
   "version": "3.8.10"
  }
 },
 "nbformat": 4,
 "nbformat_minor": 5
}
