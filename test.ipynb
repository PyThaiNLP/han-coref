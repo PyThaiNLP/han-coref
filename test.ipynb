{
 "cells": [
  {
   "cell_type": "code",
   "execution_count": 1,
   "id": "e01ab8d5-3b6b-4137-a0e8-0c2c40b8e479",
   "metadata": {
    "tags": []
   },
   "outputs": [],
   "source": [
    "import os\n",
    "os.environ[\"CUDA_VISIBLE_DEVICES\"]=\"0\""
   ]
  },
  {
   "cell_type": "code",
   "execution_count": 2,
   "id": "013e6528-9037-48c7-aba7-c2fe6da2faf5",
   "metadata": {
    "tags": []
   },
   "outputs": [],
   "source": [
    "from fastcoref import TrainingArgs, CorefTrainer\n",
    "import spacy\n",
    "import spacy_pythainlp.core"
   ]
  },
  {
   "cell_type": "code",
   "execution_count": 3,
   "id": "f4c1df2c-63fe-4d39-8d50-0584a678a7ed",
   "metadata": {
    "tags": []
   },
   "outputs": [],
   "source": [
    "nlp = spacy.blank(\"th\")"
   ]
  },
  {
   "cell_type": "markdown",
   "id": "6fe1b14e-b68d-4a42-bbaa-8e2829379842",
   "metadata": {},
   "source": [
    "## MBert"
   ]
  },
  {
   "cell_type": "code",
   "execution_count": 4,
   "id": "945d5965-477b-42b1-8386-280abf9ca752",
   "metadata": {
    "tags": []
   },
   "outputs": [
    {
     "name": "stderr",
     "output_type": "stream",
     "text": [
      "05/21/2023 06:49:57 - INFO - \t Loading FCoref model with underlying transformer mbert-model/model\n",
      "05/21/2023 06:49:59 - INFO - \t FCoref Parameters: 186.3M, Transformer: 177.9M, Coref head: 8.4M\n",
      "05/21/2023 06:50:01 - WARNING - \t Found cached dataset generator (/root/.cache/huggingface/datasets/generator/default-6e75bfdddc5a6c56/0.0.0)\n"
     ]
    },
    {
     "data": {
      "application/vnd.jupyter.widget-view+json": {
       "model_id": "",
       "version_major": 2,
       "version_minor": 0
      },
      "text/plain": [
       "Map:   0%|          | 0/1039 [00:00<?, ? examples/s]"
      ]
     },
     "metadata": {},
     "output_type": "display_data"
    },
    {
     "name": "stderr",
     "output_type": "stream",
     "text": [
      "05/21/2023 06:50:05 - WARNING - \t Found cached dataset generator (/root/.cache/huggingface/datasets/generator/default-7d442bab30cdd085/0.0.0)\n"
     ]
    },
    {
     "name": "stdout",
     "output_type": "stream",
     "text": [
      "Dataset({\n",
      "    features: ['doc_key', 'text', 'tokens', 'speakers', 'clusters', 'error', 'input_ids', 'length', 'gold_clusters', 'new_token_map', 'subtoken_map', 'num_clusters', 'max_cluster_size'],\n",
      "    num_rows: 1039\n",
      "})\n"
     ]
    },
    {
     "data": {
      "application/vnd.jupyter.widget-view+json": {
       "model_id": "",
       "version_major": 2,
       "version_minor": 0
      },
      "text/plain": [
       "Map:   0%|          | 0/150 [00:00<?, ? examples/s]"
      ]
     },
     "metadata": {},
     "output_type": "display_data"
    },
    {
     "name": "stderr",
     "output_type": "stream",
     "text": [
      "05/21/2023 06:50:06 - WARNING - \t Found cached dataset generator (/root/.cache/huggingface/datasets/generator/default-76c69f49d865ce29/0.0.0)\n"
     ]
    },
    {
     "name": "stdout",
     "output_type": "stream",
     "text": [
      "Dataset({\n",
      "    features: ['doc_key', 'text', 'tokens', 'speakers', 'clusters', 'error', 'input_ids', 'length', 'gold_clusters', 'new_token_map', 'subtoken_map', 'num_clusters', 'max_cluster_size'],\n",
      "    num_rows: 150\n",
      "})\n"
     ]
    },
    {
     "data": {
      "application/vnd.jupyter.widget-view+json": {
       "model_id": "",
       "version_major": 2,
       "version_minor": 0
      },
      "text/plain": [
       "Map:   0%|          | 0/149 [00:00<?, ? examples/s]"
      ]
     },
     "metadata": {},
     "output_type": "display_data"
    },
    {
     "name": "stdout",
     "output_type": "stream",
     "text": [
      "Dataset({\n",
      "    features: ['doc_key', 'text', 'tokens', 'speakers', 'clusters', 'error', 'input_ids', 'length', 'gold_clusters', 'new_token_map', 'subtoken_map', 'num_clusters', 'max_cluster_size'],\n",
      "    num_rows: 149\n",
      "})\n"
     ]
    }
   ],
   "source": [
    "args = TrainingArgs(\n",
    "    output_dir='mbert-model',\n",
    "    overwrite_output_dir=False,\n",
    "    model_name_or_path='mbert-model/model',\n",
    "    device='cuda',\n",
    "    epochs=200,\n",
    "    logging_steps=52,\n",
    "    eval_steps=52,\n",
    "    #max_tokens_in_batch=800\n",
    ")\n",
    "trainer = CorefTrainer(\n",
    "    args=args,\n",
    "    train_file='dataset/train_2152023_newmm.jsonlines',\n",
    "    dev_file='dataset/val_2152023_newmm.jsonlines',\n",
    "    nlp=nlp,\n",
    "    test_file='dataset/test_2152023_newmm.jsonlines'\n",
    ")"
   ]
  },
  {
   "cell_type": "code",
   "execution_count": 5,
   "id": "0cf07d3a-024d-4dfd-8661-1e0522dcd36b",
   "metadata": {
    "tags": []
   },
   "outputs": [
    {
     "name": "stderr",
     "output_type": "stream",
     "text": [
      "05/21/2023 06:50:07 - INFO - \t ***** Running evaluation on dev_set - 150 documents *****\n"
     ]
    },
    {
     "data": {
      "application/vnd.jupyter.widget-view+json": {
       "model_id": "54264724b32d4edb9c6d4dfc476c9cf0",
       "version_major": 2,
       "version_minor": 0
      },
      "text/plain": [
       "Inference:   0%|          | 0/150 [00:00<?, ?it/s]"
      ]
     },
     "metadata": {},
     "output_type": "display_data"
    },
    {
     "name": "stderr",
     "output_type": "stream",
     "text": [
      "05/21/2023 06:50:09 - INFO - \t ***** Eval results  *****\n",
      "05/21/2023 06:50:09 - INFO - \t   eval_loss                      = 3.905\n",
      "05/21/2023 06:50:09 - INFO - \t   post pruning mention precision = 0.042\n",
      "05/21/2023 06:50:09 - INFO - \t   post pruning mention recall    = 0.960\n",
      "05/21/2023 06:50:09 - INFO - \t   post pruning mention f1        = 0.080\n",
      "05/21/2023 06:50:09 - INFO - \t   mention precision              = 0.837\n",
      "05/21/2023 06:50:09 - INFO - \t   mention recall                 = 0.775\n",
      "05/21/2023 06:50:09 - INFO - \t   mention f1                     = 0.804\n",
      "05/21/2023 06:50:09 - INFO - \t   precision                      = 0.751\n",
      "05/21/2023 06:50:09 - INFO - \t   recall                         = 0.694\n",
      "05/21/2023 06:50:09 - INFO - \t   f1                             = 0.721\n"
     ]
    },
    {
     "data": {
      "text/plain": [
       "{'eval_loss': 3.9052737951278687,\n",
       " 'post pruning mention precision': 0.04153678304239401,\n",
       " 'post pruning mention recall': 0.9603603603603603,\n",
       " 'post pruning mention f1': 0.07962949129752744,\n",
       " 'mention precision': 0.8365758754863813,\n",
       " 'mention recall': 0.7747747747747747,\n",
       " 'mention f1': 0.804490177736202,\n",
       " 'precision': 0.7509972126812093,\n",
       " 'recall': 0.6938310813724856,\n",
       " 'f1': 0.7211812901674849}"
      ]
     },
     "execution_count": 5,
     "metadata": {},
     "output_type": "execute_result"
    }
   ],
   "source": [
    "trainer.evaluate(test=False)"
   ]
  },
  {
   "cell_type": "code",
   "execution_count": 6,
   "id": "43fbaeae-6f82-41e0-a551-4f7e3640ac96",
   "metadata": {
    "tags": []
   },
   "outputs": [
    {
     "name": "stderr",
     "output_type": "stream",
     "text": [
      "05/21/2023 06:50:09 - INFO - \t ***** Running evaluation on test_set - 149 documents *****\n"
     ]
    },
    {
     "data": {
      "application/vnd.jupyter.widget-view+json": {
       "model_id": "058b17d53a48403ca8c3a250318f4da9",
       "version_major": 2,
       "version_minor": 0
      },
      "text/plain": [
       "Inference:   0%|          | 0/149 [00:00<?, ?it/s]"
      ]
     },
     "metadata": {},
     "output_type": "display_data"
    },
    {
     "name": "stderr",
     "output_type": "stream",
     "text": [
      "05/21/2023 06:50:10 - INFO - \t ***** Eval results  *****\n",
      "05/21/2023 06:50:10 - INFO - \t   eval_loss                      = 4.088\n",
      "05/21/2023 06:50:10 - INFO - \t   post pruning mention precision = 0.039\n",
      "05/21/2023 06:50:10 - INFO - \t   post pruning mention recall    = 0.964\n",
      "05/21/2023 06:50:10 - INFO - \t   post pruning mention f1        = 0.074\n",
      "05/21/2023 06:50:10 - INFO - \t   mention precision              = 0.818\n",
      "05/21/2023 06:50:10 - INFO - \t   mention recall                 = 0.758\n",
      "05/21/2023 06:50:10 - INFO - \t   mention f1                     = 0.787\n",
      "05/21/2023 06:50:10 - INFO - \t   precision                      = 0.704\n",
      "05/21/2023 06:50:10 - INFO - \t   recall                         = 0.661\n",
      "05/21/2023 06:50:10 - INFO - \t   f1                             = 0.681\n"
     ]
    },
    {
     "data": {
      "text/plain": [
       "{'eval_loss': 4.088231140747666,\n",
       " 'post pruning mention precision': 0.03851470218647902,\n",
       " 'post pruning mention recall': 0.9638364779874213,\n",
       " 'post pruning mention f1': 0.07406959884001932,\n",
       " 'mention precision': 0.8183361629881154,\n",
       " 'mention recall': 0.7578616352201258,\n",
       " 'mention f1': 0.7869387755102041,\n",
       " 'precision': 0.7040283318502402,\n",
       " 'recall': 0.6612836448406143,\n",
       " 'f1': 0.6811146603731199}"
      ]
     },
     "execution_count": 6,
     "metadata": {},
     "output_type": "execute_result"
    }
   ],
   "source": [
    "trainer.evaluate(test=True)"
   ]
  },
  {
   "cell_type": "markdown",
   "id": "5bb93f35-1bce-4a13-8c0f-b792e1669fef",
   "metadata": {},
   "source": [
    "## xlm-roberta-base-model"
   ]
  },
  {
   "cell_type": "code",
   "execution_count": 10,
   "id": "8438282b-9b0b-4ca9-993c-04cd8942d9c1",
   "metadata": {
    "tags": []
   },
   "outputs": [
    {
     "name": "stderr",
     "output_type": "stream",
     "text": [
      "05/21/2023 06:50:17 - INFO - \t Loading FCoref model with underlying transformer xlm-roberta-base-model/model\n",
      "05/21/2023 06:50:22 - INFO - \t FCoref Parameters: 286.5M, Transformer: 278.0M, Coref head: 8.4M\n",
      "05/21/2023 06:50:23 - WARNING - \t Found cached dataset generator (/root/.cache/huggingface/datasets/generator/default-6e75bfdddc5a6c56/0.0.0)\n"
     ]
    },
    {
     "data": {
      "application/vnd.jupyter.widget-view+json": {
       "model_id": "",
       "version_major": 2,
       "version_minor": 0
      },
      "text/plain": [
       "Map:   0%|          | 0/1039 [00:00<?, ? examples/s]"
      ]
     },
     "metadata": {},
     "output_type": "display_data"
    },
    {
     "name": "stderr",
     "output_type": "stream",
     "text": [
      "05/21/2023 06:50:26 - WARNING - \t Found cached dataset generator (/root/.cache/huggingface/datasets/generator/default-7d442bab30cdd085/0.0.0)\n"
     ]
    },
    {
     "name": "stdout",
     "output_type": "stream",
     "text": [
      "Dataset({\n",
      "    features: ['doc_key', 'text', 'tokens', 'speakers', 'clusters', 'error', 'input_ids', 'length', 'gold_clusters', 'new_token_map', 'subtoken_map', 'num_clusters', 'max_cluster_size'],\n",
      "    num_rows: 1039\n",
      "})\n"
     ]
    },
    {
     "data": {
      "application/vnd.jupyter.widget-view+json": {
       "model_id": "",
       "version_major": 2,
       "version_minor": 0
      },
      "text/plain": [
       "Map:   0%|          | 0/150 [00:00<?, ? examples/s]"
      ]
     },
     "metadata": {},
     "output_type": "display_data"
    },
    {
     "name": "stderr",
     "output_type": "stream",
     "text": [
      "05/21/2023 06:50:27 - WARNING - \t Found cached dataset generator (/root/.cache/huggingface/datasets/generator/default-76c69f49d865ce29/0.0.0)\n"
     ]
    },
    {
     "name": "stdout",
     "output_type": "stream",
     "text": [
      "Dataset({\n",
      "    features: ['doc_key', 'text', 'tokens', 'speakers', 'clusters', 'error', 'input_ids', 'length', 'gold_clusters', 'new_token_map', 'subtoken_map', 'num_clusters', 'max_cluster_size'],\n",
      "    num_rows: 150\n",
      "})\n"
     ]
    },
    {
     "data": {
      "application/vnd.jupyter.widget-view+json": {
       "model_id": "",
       "version_major": 2,
       "version_minor": 0
      },
      "text/plain": [
       "Map:   0%|          | 0/149 [00:00<?, ? examples/s]"
      ]
     },
     "metadata": {},
     "output_type": "display_data"
    },
    {
     "name": "stdout",
     "output_type": "stream",
     "text": [
      "Dataset({\n",
      "    features: ['doc_key', 'text', 'tokens', 'speakers', 'clusters', 'error', 'input_ids', 'length', 'gold_clusters', 'new_token_map', 'subtoken_map', 'num_clusters', 'max_cluster_size'],\n",
      "    num_rows: 149\n",
      "})\n"
     ]
    }
   ],
   "source": [
    "args = TrainingArgs(\n",
    "    output_dir='xlm-roberta-base-model',\n",
    "    overwrite_output_dir=False,\n",
    "    model_name_or_path='xlm-roberta-base-model/model',\n",
    "    device='cuda',\n",
    "    epochs=200,\n",
    "    logging_steps=52,\n",
    "    eval_steps=52,\n",
    "    #max_tokens_in_batch=800\n",
    ")\n",
    "trainer = CorefTrainer(\n",
    "    args=args,\n",
    "    train_file='dataset/train_2152023_newmm.jsonlines',\n",
    "    dev_file='dataset/val_2152023_newmm.jsonlines',\n",
    "    nlp=nlp,\n",
    "    test_file='dataset/test_2152023_newmm.jsonlines'\n",
    ")"
   ]
  },
  {
   "cell_type": "code",
   "execution_count": 11,
   "id": "0152098d-f39d-4db8-9f0e-c527d5dec31d",
   "metadata": {
    "tags": []
   },
   "outputs": [
    {
     "name": "stderr",
     "output_type": "stream",
     "text": [
      "05/21/2023 06:50:28 - INFO - \t ***** Running evaluation on dev_set - 150 documents *****\n"
     ]
    },
    {
     "data": {
      "application/vnd.jupyter.widget-view+json": {
       "model_id": "d24a3c554a8149bb8f043da82e40b414",
       "version_major": 2,
       "version_minor": 0
      },
      "text/plain": [
       "Inference:   0%|          | 0/150 [00:00<?, ?it/s]"
      ]
     },
     "metadata": {},
     "output_type": "display_data"
    },
    {
     "name": "stderr",
     "output_type": "stream",
     "text": [
      "05/21/2023 06:50:29 - INFO - \t ***** Eval results  *****\n",
      "05/21/2023 06:50:29 - INFO - \t   eval_loss                      = 3.294\n",
      "05/21/2023 06:50:29 - INFO - \t   post pruning mention precision = 0.075\n",
      "05/21/2023 06:50:29 - INFO - \t   post pruning mention recall    = 0.971\n",
      "05/21/2023 06:50:29 - INFO - \t   post pruning mention f1        = 0.140\n",
      "05/21/2023 06:50:29 - INFO - \t   mention precision              = 0.882\n",
      "05/21/2023 06:50:29 - INFO - \t   mention recall                 = 0.832\n",
      "05/21/2023 06:50:29 - INFO - \t   mention f1                     = 0.856\n",
      "05/21/2023 06:50:29 - INFO - \t   precision                      = 0.797\n",
      "05/21/2023 06:50:29 - INFO - \t   recall                         = 0.752\n",
      "05/21/2023 06:50:29 - INFO - \t   f1                             = 0.774\n"
     ]
    },
    {
     "data": {
      "text/plain": [
       "{'eval_loss': 3.2937831077724695,\n",
       " 'post pruning mention precision': 0.07520580438119158,\n",
       " 'post pruning mention recall': 0.9711711711711711,\n",
       " 'post pruning mention f1': 0.13960113960113962,\n",
       " 'mention precision': 0.8816793893129771,\n",
       " 'mention recall': 0.8324324324324325,\n",
       " 'mention f1': 0.8563484708063022,\n",
       " 'precision': 0.7971807671420086,\n",
       " 'recall': 0.7518622378322485,\n",
       " 'f1': 0.7736818057004267}"
      ]
     },
     "execution_count": 11,
     "metadata": {},
     "output_type": "execute_result"
    }
   ],
   "source": [
    "trainer.evaluate(test=False)"
   ]
  },
  {
   "cell_type": "code",
   "execution_count": 12,
   "id": "c0d2aece-a5f4-45da-a1c3-76a22da951b8",
   "metadata": {
    "tags": []
   },
   "outputs": [
    {
     "name": "stderr",
     "output_type": "stream",
     "text": [
      "05/21/2023 06:50:29 - INFO - \t ***** Running evaluation on test_set - 149 documents *****\n"
     ]
    },
    {
     "data": {
      "application/vnd.jupyter.widget-view+json": {
       "model_id": "b065cbc3666a473dade48476fa4db769",
       "version_major": 2,
       "version_minor": 0
      },
      "text/plain": [
       "Inference:   0%|          | 0/149 [00:00<?, ?it/s]"
      ]
     },
     "metadata": {},
     "output_type": "display_data"
    },
    {
     "name": "stderr",
     "output_type": "stream",
     "text": [
      "05/21/2023 06:50:30 - INFO - \t ***** Eval results  *****\n",
      "05/21/2023 06:50:30 - INFO - \t   eval_loss                      = 3.682\n",
      "05/21/2023 06:50:30 - INFO - \t   post pruning mention precision = 0.072\n",
      "05/21/2023 06:50:30 - INFO - \t   post pruning mention recall    = 0.981\n",
      "05/21/2023 06:50:30 - INFO - \t   post pruning mention f1        = 0.134\n",
      "05/21/2023 06:50:30 - INFO - \t   mention precision              = 0.828\n",
      "05/21/2023 06:50:30 - INFO - \t   mention recall                 = 0.843\n",
      "05/21/2023 06:50:30 - INFO - \t   mention f1                     = 0.836\n",
      "05/21/2023 06:50:30 - INFO - \t   precision                      = 0.733\n",
      "05/21/2023 06:50:30 - INFO - \t   recall                         = 0.747\n",
      "05/21/2023 06:50:30 - INFO - \t   f1                             = 0.740\n"
     ]
    },
    {
     "data": {
      "text/plain": [
       "{'eval_loss': 3.6815680488944054,\n",
       " 'post pruning mention precision': 0.07188111968667205,\n",
       " 'post pruning mention recall': 0.9811320754716981,\n",
       " 'post pruning mention f1': 0.13394869593216702,\n",
       " 'mention precision': 0.8284389489953632,\n",
       " 'mention recall': 0.8427672955974843,\n",
       " 'mention f1': 0.8355416991426344,\n",
       " 'precision': 0.733185749673153,\n",
       " 'recall': 0.747051625806399,\n",
       " 'f1': 0.739753982226525}"
      ]
     },
     "execution_count": 12,
     "metadata": {},
     "output_type": "execute_result"
    }
   ],
   "source": [
    "trainer.evaluate(test=True)"
   ]
  },
  {
   "cell_type": "markdown",
   "id": "c7d8f749-3cb4-461c-9c39-9cdbceb547cc",
   "metadata": {},
   "source": [
    "## xlm-v-base-model"
   ]
  },
  {
   "cell_type": "code",
   "execution_count": 22,
   "id": "60c45925-6ff0-4271-83f5-cacbad1aa9cb",
   "metadata": {
    "tags": []
   },
   "outputs": [
    {
     "name": "stderr",
     "output_type": "stream",
     "text": [
      "05/21/2023 07:02:38 - INFO - \t Loading FCoref model with underlying transformer xlm-v-base-model/model\n",
      "05/21/2023 07:02:50 - INFO - \t FCoref Parameters: 786.9M, Transformer: 778.5M, Coref head: 8.4M\n",
      "05/21/2023 07:02:50 - WARNING - \t Found cached dataset generator (/root/.cache/huggingface/datasets/generator/default-6e75bfdddc5a6c56/0.0.0)\n",
      "05/21/2023 07:02:51 - WARNING - \t Loading cached processed dataset at /root/.cache/huggingface/datasets/generator/default-6e75bfdddc5a6c56/0.0.0/cache-26b3ab8e58aab6fd.arrow\n",
      "05/21/2023 07:02:51 - WARNING - \t Loading cached sorted indices for dataset at /root/.cache/huggingface/datasets/generator/default-6e75bfdddc5a6c56/0.0.0/cache-0084f9f68a06913d.arrow\n",
      "05/21/2023 07:02:51 - WARNING - \t Found cached dataset generator (/root/.cache/huggingface/datasets/generator/default-7d442bab30cdd085/0.0.0)\n"
     ]
    },
    {
     "name": "stdout",
     "output_type": "stream",
     "text": [
      "Dataset({\n",
      "    features: ['doc_key', 'text', 'tokens', 'speakers', 'clusters', 'error', 'input_ids', 'length', 'gold_clusters', 'new_token_map', 'subtoken_map', 'num_clusters', 'max_cluster_size'],\n",
      "    num_rows: 1039\n",
      "})\n"
     ]
    },
    {
     "name": "stderr",
     "output_type": "stream",
     "text": [
      "05/21/2023 07:02:51 - WARNING - \t Loading cached processed dataset at /root/.cache/huggingface/datasets/generator/default-7d442bab30cdd085/0.0.0/cache-c6d4fddf9ac50d65.arrow\n",
      "05/21/2023 07:02:51 - WARNING - \t Loading cached sorted indices for dataset at /root/.cache/huggingface/datasets/generator/default-7d442bab30cdd085/0.0.0/cache-54cdaf5316d195ed.arrow\n",
      "05/21/2023 07:02:51 - WARNING - \t Found cached dataset generator (/root/.cache/huggingface/datasets/generator/default-76c69f49d865ce29/0.0.0)\n"
     ]
    },
    {
     "name": "stdout",
     "output_type": "stream",
     "text": [
      "Dataset({\n",
      "    features: ['doc_key', 'text', 'tokens', 'speakers', 'clusters', 'error', 'input_ids', 'length', 'gold_clusters', 'new_token_map', 'subtoken_map', 'num_clusters', 'max_cluster_size'],\n",
      "    num_rows: 150\n",
      "})\n"
     ]
    },
    {
     "name": "stderr",
     "output_type": "stream",
     "text": [
      "05/21/2023 07:02:51 - WARNING - \t Loading cached processed dataset at /root/.cache/huggingface/datasets/generator/default-76c69f49d865ce29/0.0.0/cache-beb30d7234c88512.arrow\n",
      "05/21/2023 07:02:51 - WARNING - \t Loading cached sorted indices for dataset at /root/.cache/huggingface/datasets/generator/default-76c69f49d865ce29/0.0.0/cache-21477546220ad3a7.arrow\n"
     ]
    },
    {
     "name": "stdout",
     "output_type": "stream",
     "text": [
      "Dataset({\n",
      "    features: ['doc_key', 'text', 'tokens', 'speakers', 'clusters', 'error', 'input_ids', 'length', 'gold_clusters', 'new_token_map', 'subtoken_map', 'num_clusters', 'max_cluster_size'],\n",
      "    num_rows: 149\n",
      "})\n"
     ]
    }
   ],
   "source": [
    "args = TrainingArgs(\n",
    "    output_dir='xlm-v-base-model',\n",
    "    overwrite_output_dir=False,\n",
    "    model_name_or_path='xlm-v-base-model/model',\n",
    "    device='cuda',\n",
    "    epochs=200,\n",
    "    logging_steps=52,\n",
    "    eval_steps=52,\n",
    "    #max_tokens_in_batch=800\n",
    ")\n",
    "trainer = CorefTrainer(\n",
    "    args=args,\n",
    "    train_file='dataset/train_2152023_newmm.jsonlines',\n",
    "    dev_file='dataset/val_2152023_newmm.jsonlines',\n",
    "    nlp=nlp,\n",
    "    test_file='dataset/test_2152023_newmm.jsonlines'\n",
    ")"
   ]
  },
  {
   "cell_type": "code",
   "execution_count": 23,
   "id": "5ac814f1-f4b3-4149-9c6c-924bc13581a4",
   "metadata": {
    "tags": []
   },
   "outputs": [
    {
     "name": "stderr",
     "output_type": "stream",
     "text": [
      "05/21/2023 07:02:52 - INFO - \t ***** Running evaluation on dev_set - 150 documents *****\n"
     ]
    },
    {
     "data": {
      "application/vnd.jupyter.widget-view+json": {
       "model_id": "92e76a7bcd714126adb82d5164ddec97",
       "version_major": 2,
       "version_minor": 0
      },
      "text/plain": [
       "Inference:   0%|          | 0/150 [00:00<?, ?it/s]"
      ]
     },
     "metadata": {},
     "output_type": "display_data"
    },
    {
     "name": "stderr",
     "output_type": "stream",
     "text": [
      "05/21/2023 07:02:53 - INFO - \t ***** Eval results  *****\n",
      "05/21/2023 07:02:53 - INFO - \t   eval_loss                      = 2.916\n",
      "05/21/2023 07:02:53 - INFO - \t   post pruning mention precision = 0.083\n",
      "05/21/2023 07:02:53 - INFO - \t   post pruning mention recall    = 0.982\n",
      "05/21/2023 07:02:53 - INFO - \t   post pruning mention f1        = 0.153\n",
      "05/21/2023 07:02:53 - INFO - \t   mention precision              = 0.903\n",
      "05/21/2023 07:02:53 - INFO - \t   mention recall                 = 0.805\n",
      "05/21/2023 07:02:53 - INFO - \t   mention f1                     = 0.851\n",
      "05/21/2023 07:02:53 - INFO - \t   precision                      = 0.832\n",
      "05/21/2023 07:02:53 - INFO - \t   recall                         = 0.740\n",
      "05/21/2023 07:02:53 - INFO - \t   f1                             = 0.783\n"
     ]
    },
    {
     "data": {
      "text/plain": [
       "{'eval_loss': 2.9162272065877914,\n",
       " 'post pruning mention precision': 0.08297807551766138,\n",
       " 'post pruning mention recall': 0.9819819819819819,\n",
       " 'post pruning mention f1': 0.1530254106415836,\n",
       " 'mention precision': 0.9030303030303031,\n",
       " 'mention recall': 0.8054054054054054,\n",
       " 'mention f1': 0.8514285714285714,\n",
       " 'precision': 0.8317468505361266,\n",
       " 'recall': 0.7400723566982296,\n",
       " 'f1': 0.7829527115624925}"
      ]
     },
     "execution_count": 23,
     "metadata": {},
     "output_type": "execute_result"
    }
   ],
   "source": [
    "trainer.evaluate(test=False)"
   ]
  },
  {
   "cell_type": "code",
   "execution_count": 24,
   "id": "639596bb-9995-425e-9d89-b6e2f03e92af",
   "metadata": {
    "tags": []
   },
   "outputs": [
    {
     "name": "stderr",
     "output_type": "stream",
     "text": [
      "05/21/2023 07:02:53 - INFO - \t ***** Running evaluation on test_set - 149 documents *****\n"
     ]
    },
    {
     "data": {
      "application/vnd.jupyter.widget-view+json": {
       "model_id": "4d9a7025c0984b729bd428aed6004b60",
       "version_major": 2,
       "version_minor": 0
      },
      "text/plain": [
       "Inference:   0%|          | 0/149 [00:00<?, ?it/s]"
      ]
     },
     "metadata": {},
     "output_type": "display_data"
    },
    {
     "name": "stderr",
     "output_type": "stream",
     "text": [
      "05/21/2023 07:02:54 - INFO - \t ***** Eval results  *****\n",
      "05/21/2023 07:02:54 - INFO - \t   eval_loss                      = 2.642\n",
      "05/21/2023 07:02:54 - INFO - \t   post pruning mention precision = 0.076\n",
      "05/21/2023 07:02:54 - INFO - \t   post pruning mention recall    = 0.973\n",
      "05/21/2023 07:02:54 - INFO - \t   post pruning mention f1        = 0.142\n",
      "05/21/2023 07:02:54 - INFO - \t   mention precision              = 0.864\n",
      "05/21/2023 07:02:54 - INFO - \t   mention recall                 = 0.857\n",
      "05/21/2023 07:02:54 - INFO - \t   mention f1                     = 0.860\n",
      "05/21/2023 07:02:54 - INFO - \t   precision                      = 0.765\n",
      "05/21/2023 07:02:54 - INFO - \t   recall                         = 0.758\n",
      "05/21/2023 07:02:54 - INFO - \t   f1                             = 0.761\n"
     ]
    },
    {
     "data": {
      "text/plain": [
       "{'eval_loss': 2.6419061794877052,\n",
       " 'post pruning mention precision': 0.0763349364903194,\n",
       " 'post pruning mention recall': 0.9732704402515723,\n",
       " 'post pruning mention f1': 0.1415666094911378,\n",
       " 'mention precision': 0.8637083993660856,\n",
       " 'mention recall': 0.8569182389937107,\n",
       " 'mention f1': 0.8602999210734016,\n",
       " 'precision': 0.7654475918154381,\n",
       " 'recall': 0.7580301848627874,\n",
       " 'f1': 0.7607890356762602}"
      ]
     },
     "execution_count": 24,
     "metadata": {},
     "output_type": "execute_result"
    }
   ],
   "source": [
    "trainer.evaluate(test=True)"
   ]
  },
  {
   "cell_type": "code",
   "execution_count": 26,
   "id": "744a42f7-c874-496d-a3e3-d31fc87f44ac",
   "metadata": {},
   "outputs": [
    {
     "name": "stderr",
     "output_type": "stream",
     "text": [
      "/usr/local/lib/python3.8/dist-packages/transformers/utils/hub.py:643: UserWarning: The `organization` argument is deprecated and will be removed in v5 of Transformers. Set your organization directly in the `repo_id` passed instead (`repo_id={organization}/{model_id}`).\n",
      "  warnings.warn(\n"
     ]
    },
    {
     "data": {
      "application/vnd.jupyter.widget-view+json": {
       "model_id": "95c6188de3744882bd7028668dc33915",
       "version_major": 2,
       "version_minor": 0
      },
      "text/plain": [
       "Upload 1 LFS files:   0%|          | 0/1 [00:00<?, ?it/s]"
      ]
     },
     "metadata": {},
     "output_type": "display_data"
    },
    {
     "data": {
      "application/vnd.jupyter.widget-view+json": {
       "model_id": "1489ffffb47947a9b4b90a831257d0de",
       "version_major": 2,
       "version_minor": 0
      },
      "text/plain": [
       "pytorch_model.bin:   0%|          | 0.00/3.15G [00:00<?, ?B/s]"
      ]
     },
     "metadata": {},
     "output_type": "display_data"
    },
    {
     "data": {
      "application/vnd.jupyter.widget-view+json": {
       "model_id": "b10bc54b6f1b457e908ed60fb1783a7f",
       "version_major": 2,
       "version_minor": 0
      },
      "text/plain": [
       "Upload 2 LFS files:   0%|          | 0/2 [00:00<?, ?it/s]"
      ]
     },
     "metadata": {},
     "output_type": "display_data"
    },
    {
     "data": {
      "application/vnd.jupyter.widget-view+json": {
       "model_id": "9dee8c1925da47e3a0dcb3bac7cafd35",
       "version_major": 2,
       "version_minor": 0
      },
      "text/plain": [
       "sentencepiece.bpe.model:   0%|          | 0.00/18.2M [00:00<?, ?B/s]"
      ]
     },
     "metadata": {},
     "output_type": "display_data"
    },
    {
     "data": {
      "application/vnd.jupyter.widget-view+json": {
       "model_id": "e3bc6c952fc3425aa2107425a2f31332",
       "version_major": 2,
       "version_minor": 0
      },
      "text/plain": [
       "tokenizer.json:   0%|          | 0.00/61.3M [00:00<?, ?B/s]"
      ]
     },
     "metadata": {},
     "output_type": "display_data"
    }
   ],
   "source": [
    "trainer.push_to_hub(\"pythainlp/han_model_v1.0\",\"pythainlp\")"
   ]
  },
  {
   "cell_type": "code",
   "execution_count": null,
   "id": "299273d2-8509-4215-b070-4b697b979e8d",
   "metadata": {},
   "outputs": [],
   "source": []
  }
 ],
 "metadata": {
  "kernelspec": {
   "display_name": "Python 3 (ipykernel)",
   "language": "python",
   "name": "python3"
  },
  "language_info": {
   "codemirror_mode": {
    "name": "ipython",
    "version": 3
   },
   "file_extension": ".py",
   "mimetype": "text/x-python",
   "name": "python",
   "nbconvert_exporter": "python",
   "pygments_lexer": "ipython3",
   "version": "3.8.10"
  }
 },
 "nbformat": 4,
 "nbformat_minor": 5
}
